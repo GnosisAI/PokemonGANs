{
 "cells": [
  {
   "cell_type": "code",
   "execution_count": 1,
   "metadata": {
    "collapsed": true
   },
   "outputs": [],
   "source": [
    "import requests #Request\n",
    "from bs4 import BeautifulSoup #Parse\n",
    "import re # Split type of Pokemon: GrassPsycho ==> [Grass, Psycho]\n",
    "import urllib # download\n",
    "import shutil # download"
   ]
  },
  {
   "cell_type": "code",
   "execution_count": 2,
   "metadata": {
    "collapsed": true
   },
   "outputs": [],
   "source": [
    "r = requests.get('https://pokemondb.net/pokedex/all') \n",
    "soup = BeautifulSoup(r.text, 'html.parser') "
   ]
  },
  {
   "cell_type": "code",
   "execution_count": 5,
   "metadata": {
    "collapsed": false
   },
   "outputs": [],
   "source": [
    "results = soup.find_all('tr')"
   ]
  },
  {
   "cell_type": "code",
   "execution_count": 64,
   "metadata": {
    "collapsed": false
   },
   "outputs": [],
   "source": [
    "records = []\n",
    "URLs = []\n",
    "for result in results:\n",
    "    rows = result.find_all_next('td')\n",
    "    URL = 'https://pokemondb.net' + result.find_next('a')['href']\n",
    "    Id = rows[0].text\n",
    "    Name = rows[1].text\n",
    "    Type = re.findall('[A-Z][^A-Z]*', rows[2].text)\n",
    "    Total = rows[3].text\n",
    "    URLs.append(URL)\n",
    "    records.append((Id,Name,Type,Total,URL))"
   ]
  },
  {
   "cell_type": "code",
   "execution_count": 157,
   "metadata": {
    "collapsed": true
   },
   "outputs": [],
   "source": [
    "import pandas as pd  \n"
   ]
  },
  {
   "cell_type": "code",
   "execution_count": 163,
   "metadata": {
    "collapsed": false
   },
   "outputs": [],
   "source": [
    "df = pd.DataFrame(records, columns=['Id', 'Name', 'Type', 'Total', 'URL']) \n",
    "df.drop(df.index[0], inplace=True)\n",
    "df.to_csv('Pokemon.csv', index=False, encoding='utf-8') "
   ]
  },
  {
   "cell_type": "code",
   "execution_count": 155,
   "metadata": {
    "collapsed": false
   },
   "outputs": [],
   "source": [
    "i = 0\n",
    "for url in URLs:\n",
    "    req  = requests.get(url)\n",
    "    Bsoup = BeautifulSoup(req.text, 'html.parser')\n",
    "    img = Bsoup.find_all('div',attrs={'class':'figure'})\n",
    "    download = img[0].find('img')['src']\n",
    "    image_req = requests.get(download, stream=True)\n",
    "    if image_req.status_code == 200:\n",
    "        with open(str(i)+\".png\", 'wb') as f:\n",
    "            image_req.raw.decode_content = True\n",
    "            shutil.copyfileobj(image_req.raw, f)\n",
    "    i += 1"
   ]
  },
  {
   "cell_type": "code",
   "execution_count": 122,
   "metadata": {
    "collapsed": true
   },
   "outputs": [],
   "source": []
  }
 ],
 "metadata": {
  "kernelspec": {
   "display_name": "Python 3",
   "language": "python",
   "name": "python3"
  },
  "language_info": {
   "codemirror_mode": {
    "name": "ipython",
    "version": 3
   },
   "file_extension": ".py",
   "mimetype": "text/x-python",
   "name": "python",
   "nbconvert_exporter": "python",
   "pygments_lexer": "ipython3",
   "version": "3.6.0"
  }
 },
 "nbformat": 4,
 "nbformat_minor": 2
}
